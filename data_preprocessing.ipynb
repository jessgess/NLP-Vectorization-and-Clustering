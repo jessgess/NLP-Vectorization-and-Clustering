{
 "cells": [
  {
   "cell_type": "code",
   "execution_count": 1,
   "metadata": {
    "collapsed": true
   },
   "outputs": [],
   "source": [
    "import pandas as pd\n",
    "import datetime as dt\n",
    "import re\n",
    "import warnings\n",
    "warnings.filterwarnings(action='ignore')"
   ]
  },
  {
   "cell_type": "code",
   "execution_count": 2,
   "metadata": {},
   "outputs": [
    {
     "name": "stdout",
     "output_type": "stream",
     "text": [
      "(1357648, 9)\n"
     ]
    }
   ],
   "source": [
    "farm = pd.read_csv('data/farming.csv', escapechar='\\\\', parse_dates=['created_at'])\n",
    "farm['created_at'] = pd.to_datetime(farm['created_at'].dt.date)\n",
    "print(farm.shape)"
   ]
  },
  {
   "cell_type": "code",
   "execution_count": 3,
   "metadata": {
    "collapsed": true
   },
   "outputs": [],
   "source": [
    "empty = farm[farm['content'].isnull()].index.get_values()\n",
    "farm.drop(empty, inplace=True)"
   ]
  },
  {
   "cell_type": "code",
   "execution_count": 4,
   "metadata": {},
   "outputs": [
    {
     "data": {
      "text/plain": [
       "(852048, 8)"
      ]
     },
     "execution_count": 4,
     "metadata": {},
     "output_type": "execute_result"
    }
   ],
   "source": [
    "eng = farm[farm['language_code'] == 'eng']\n",
    "eng = eng.drop('language_code', axis=1)\n",
    "eng.shape"
   ]
  },
  {
   "cell_type": "code",
   "execution_count": 5,
   "metadata": {
    "collapsed": true
   },
   "outputs": [],
   "source": [
    "content_size = lambda x: len(str(x).split()) #counting the content size per sample \n",
    "punct_remover = lambda x: re.sub(r'[^\\w\\s]','', str(x)) #removing punctuations\n",
    "make_lower = lambda x: str(x).lower() #making everything lowercase "
   ]
  },
  {
   "cell_type": "code",
   "execution_count": 6,
   "metadata": {
    "collapsed": true
   },
   "outputs": [],
   "source": [
    "def preproc_1(df):\n",
    "    df2 = df.copy()\n",
    "    \n",
    "    df2['content_size'] = 0\n",
    "    df2['content_size'] = df2.loc[:,'content'].apply(content_size) #adding the content size as a new column to the df\n",
    "    df2['content'] = df2.loc[:,'content'].apply(punct_remover) #removing punctuations\n",
    "    df2['content'] = df2.loc[:,'content'].apply(make_lower) #making words lowercase\n",
    "    \n",
    "    df2.set_index(['root_sms_in_id', 'sms_in_id'], inplace=True)\n",
    "    df2 = df2.sort_index(axis=0, level='root_sms_in_id')\n",
    "    \n",
    "    return df2"
   ]
  },
  {
   "cell_type": "code",
   "execution_count": 7,
   "metadata": {
    "collapsed": true
   },
   "outputs": [],
   "source": [
    "def preproc_2(df):\n",
    "    \n",
    "    df2 = df.copy()\n",
    "    #collecting indices for samples with content size <=2 \n",
    "    inds = df[(df['content_size'] <= 2) & (df['cmd'] == 'question')].index.get_values()\n",
    "\n",
    "    less_than_2 = [] \n",
    "    for item in inds:\n",
    "        less_than_2.append(item[0]) #root_sms_in_id values for samples with content <=2\n",
    "            \n",
    "    df2.drop(less_than_2, axis=0, inplace=True)\n",
    "        \n",
    "    df2.reset_index(inplace=True)\n",
    "    \n",
    "    return df2"
   ]
  },
  {
   "cell_type": "code",
   "execution_count": 8,
   "metadata": {},
   "outputs": [
    {
     "data": {
      "text/plain": [
       "(852048, 7)"
      ]
     },
     "execution_count": 8,
     "metadata": {},
     "output_type": "execute_result"
    }
   ],
   "source": [
    "new_farm = preproc_1(eng)\n",
    "new_farm.shape"
   ]
  },
  {
   "cell_type": "code",
   "execution_count": 9,
   "metadata": {},
   "outputs": [
    {
     "data": {
      "text/plain": [
       "(826356, 9)"
      ]
     },
     "execution_count": 9,
     "metadata": {},
     "output_type": "execute_result"
    }
   ],
   "source": [
    "new_farm_2 = preproc_2(new_farm)\n",
    "new_farm_2.shape"
   ]
  },
  {
   "cell_type": "code",
   "execution_count": 11,
   "metadata": {
    "collapsed": true
   },
   "outputs": [],
   "source": [
    "#keeping the questions only\n",
    "questions = new_farm_2[new_farm_2['cmd'] == 'question']"
   ]
  },
  {
   "cell_type": "code",
   "execution_count": 12,
   "metadata": {},
   "outputs": [
    {
     "data": {
      "text/plain": [
       "(309478, 9)"
      ]
     },
     "execution_count": 12,
     "metadata": {},
     "output_type": "execute_result"
    }
   ],
   "source": [
    "questions = questions.drop_duplicates('content')\n",
    "questions.shape"
   ]
  },
  {
   "cell_type": "code",
   "execution_count": 13,
   "metadata": {
    "collapsed": true
   },
   "outputs": [],
   "source": [
    "#bird, cock, poultry will still be left as they are\n",
    "#Note: below wont catch chick or chic that appear at the end of the sentence (without trailing space).  \n",
    "#the criteria for changing chick and chic to chicken is only if they appear in the begining or middle of a sentence followed by\n",
    "#a trailing space, otherwise all the existing chickens would change to 'chickenen'\n",
    "\n",
    "#spell checker\n",
    "def pre_proc(df): \n",
    "    df2 = df.copy()\n",
    "    \n",
    "    df2.content.replace({r'(x*_*[0-9]_*)' : \"\"}, inplace=True, regex=True) #removing all digits attached to words\n",
    "    df2.content.replace({r'(a?kukus?)' : \"chicken\"}, inplace=True, regex=True)\n",
    "    df2.content.replace({r'(\\s+(a?hens?)\\s+)' : \" chicken \"}, inplace=True, regex=True)#starting \\s to prevent 'when'->'wchicken'\n",
    "    df2.content.replace({r'(chic?khens?)' : \"chicken\"}, inplace=True, regex=True)\n",
    "    df2.content.replace({r'((a?chic?k?s?)\\s+)' : \"chicken \"}, inplace=True, regex=True) #need \\s otherwise risk building chickenen\n",
    "    df2.content.replace({r'(chic?k?s)' : \"chicken\"}, inplace=True, regex=True) #correcting sentence ending chicks, ending 's' to avoid chickenen\n",
    "    df2.content.replace({r'(a?chikens?)' : \"chicken\"}, inplace=True, regex=True)\n",
    "    df2.content.replace({r'(a?chikes?)' : \"chicken\"}, inplace=True, regex=True)\n",
    "    df2.content.replace({r'(achicken)' : \"chicken\"}, inplace=True, regex=True)  \n",
    "    #there are things like kukuchick or chickenchick in data that above will change them to chickenchicken, below line to correct that\n",
    "    df2.content.replace({r'(chickenchicken)' : \"chicken\"}, inplace=True, regex=True)  \n",
    "    df2.content.replace({r'(poutry)' : \"poultry\"}, inplace=True, regex=True)\n",
    "    df2.content.replace({r'(paul?try)' : \"poultry\"}, inplace=True, regex=True)\n",
    "    df2.content.replace({r'(a?diseas?\\s)' : \"disease \"}, inplace=True, regex=True) \n",
    "    df2.content.replace({r'(a?diesease?s?)' : \"disease\"}, inplace=True, regex=True) \n",
    "    df2.content.replace({r'(a?di?e?i?seace?s?)' : \"disease\"}, inplace=True, regex=True) \n",
    "    df2.content.replace({r'(a?diss?easas?)' : \"disease\"}, inplace=True, regex=True)\n",
    "    df2.content.replace({r'(a?dissease?s?)' : \"disease\"}, inplace=True, regex=True)\n",
    "    df2.content.replace({r'(a?disease?d)' : \"disease\"}, inplace=True, regex=True)\n",
    "    df2.content.replace({r'(a?dess?eas?e?s?)' : \"disease\"}, inplace=True, regex=True)\n",
    "    df2.content.replace({r'(a?tomatos?e?s?)' : \"tomato\"}, inplace=True, regex=True) \n",
    "    df2.content.replace({r'(p?f?ass?h?ion\\s?frui?ts?)' : \"passionfruit\"}, inplace=True, regex=True)\n",
    "    df2.content.replace({r'(water\\smelons?)' : \"watermelon\"}, inplace=True, regex=True)\n",
    "    df2.content.replace({r'(a?ferte?i?lisers?)' : \"fertilizer\"}, inplace=True, regex=True)\n",
    "    df2.content.replace({r'(a?fertillizers?)' : \"fertilizer\"}, inplace=True, regex=True)\n",
    "    df2.content.replace({r'(ferte?r?lizers?)' : \"fertilizer\"}, inplace=True, regex=True)\n",
    "    df2.content.replace({r'(a?live\\s?stocks?)' : \"livestock\"}, inplace=True, regex=True)\n",
    "    df2.content.replace({r'(a?livestokes?)' : \"livestock\"}, inplace=True, regex=True)\n",
    "    df2.content.replace({r'(medice?ne?)' : \"medicine\"}, inplace=True, regex=True)\n",
    "    df2.content.replace({r'(medicin\\s)' : \"medicine \"}, inplace=True, regex=True)\n",
    "    df2.content.replace({r'(a?potatos?e?s?)' : \"potato\"}, inplace=True, regex=True) \n",
    "    df2.content.replace({r'(swea?e?t\\s?potatoe?s?)' : \"sweetpotato\"}, inplace=True, regex=True)\n",
    "    df2.content.replace({r'(irish?potatoe?s?)' : \"irish potato\"}, inplace=True, regex=True) #dropping irish in stopwords\n",
    "    df2.content.replace({r'(sugar\\s?canes?)' : \"sugarcane\"}, inplace=True, regex=True) \n",
    "    df2.content.replace({r'(army\\s?wo?a?rms?)' : \"armyworm\"}, inplace=True, regex=True)\n",
    "    df2.content.replace({r'(dewo?a?rme?d?r?s?i?n?g?)' : \"deworm\"}, inplace=True, regex=True) \n",
    "    df2.content.replace({r'(egg plant)' : \"eggplant\"}, inplace=True, regex=True)\n",
    "    df2.content.replace({r'(a?rabit)' : \"rabbit\"}, inplace=True, regex=True)\n",
    "    df2.content.replace({r'(tobaco)' : \"tobacco\"}, inplace=True, regex=True)\n",
    "    df2.content.replace({r'(mangoe)' : \"mango\"}, inplace=True, regex=True) #spacy detects both mangoes and mangos\n",
    "    df2.content.replace({r'(agoat)' : \"goat\"}, inplace=True, regex=True)\n",
    "    df2.content.replace({r'(acow)' : \"cow\"}, inplace=True, regex=True) \n",
    "    df2.content.replace({r'(a?fri?ei?shian)' : \"friesian\"}, inplace=True, regex=True)\n",
    "    df2.content.replace({r'(a?frei?sian)' : \"friesian\"}, inplace=True, regex=True)\n",
    "    df2.content.replace({r'(calfs)' : \"calf\"}, inplace=True, regex=True)\n",
    "    df2.content.replace({r'(a?calve[^ds])' : \"calf\"}, inplace=True, regex=True)\n",
    "    df2.content.replace({r'(a?pigs?)' : \"pig\"}, inplace=True, regex=True)\n",
    "    df2.content.replace({r'(a?apiglets?)' : \"piglet\"}, inplace=True, regex=True)\n",
    "    df2.content.replace({r'(a?turke?y)' : \"turkey\"}, inplace=True, regex=True)\n",
    "    df2.content.replace({r'(a?sheep)' : \"sheep\"}, inplace=True, regex=True)\n",
    "    df2.content.replace({r'(vacc?ina?t?e?d?i?o?n?g?)' : \"vaccine\"}, inplace=True, regex=True) \n",
    "    df2.content.replace({r'(cabage)' : \"cabbage\"}, inplace=True, regex=True)\n",
    "    df2.content.replace({r'(a?ban?nan?na)' : \"banana\"}, inplace=True, regex=True) \n",
    "    df2.content.replace({r'(ovacc?ados?)' : \"avocado\"}, inplace=True, regex=True) \n",
    "    df2.content.replace({r'(avo?a?ccados?)' : \"avocado\"}, inplace=True, regex=True) \n",
    "    df2.content.replace({r'(macademia)' : \"macadamia\"}, inplace=True, regex=True) \n",
    "\n",
    "    return df2"
   ]
  },
  {
   "cell_type": "code",
   "execution_count": 14,
   "metadata": {
    "collapsed": true
   },
   "outputs": [],
   "source": [
    "proc_questions = pre_proc(questions)"
   ]
  },
  {
   "cell_type": "code",
   "execution_count": 15,
   "metadata": {
    "collapsed": true
   },
   "outputs": [],
   "source": [
    "proc_questions = questions_v2.to_csv('data/processed.csv')"
   ]
  }
 ],
 "metadata": {
  "kernelspec": {
   "display_name": "Python 3",
   "language": "python",
   "name": "python3"
  },
  "language_info": {
   "codemirror_mode": {
    "name": "ipython",
    "version": 3
   },
   "file_extension": ".py",
   "mimetype": "text/x-python",
   "name": "python",
   "nbconvert_exporter": "python",
   "pygments_lexer": "ipython3",
   "version": "3.6.1"
  }
 },
 "nbformat": 4,
 "nbformat_minor": 1
}
